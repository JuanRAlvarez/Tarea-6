{
 "metadata": {
  "name": "",
  "signature": "sha256:e892bb68326e6dfddd51d04f5c3b31e35aab4b53c0101729d8b06ff8ecd3a3a9"
 },
 "nbformat": 3,
 "nbformat_minor": 0,
 "worksheets": [
  {
   "cells": [
    {
     "cell_type": "code",
     "collapsed": false,
     "input": [
      "%pylab inline"
     ],
     "language": "python",
     "metadata": {},
     "outputs": [
      {
       "output_type": "stream",
       "stream": "stdout",
       "text": [
        "Populating the interactive namespace from numpy and matplotlib\n"
       ]
      }
     ],
     "prompt_number": 4
    },
    {
     "cell_type": "code",
     "collapsed": false,
     "input": [
      "import numpy as np\n",
      "import matplotlib as plt\n",
      "\n",
      "datos = np.loadtxt(\"IC.dat\")\n",
      "\n",
      "N = np.shape(datos)[0]\n",
      "\n",
      "for i in range(N):\n",
      "    if (datos[i,0] == -1):\n",
      "        scatter(datos[i,1],datos[i,2],c='r')\n",
      "    else:\n",
      "        scatter(datos[i,1],datos[i,2],c='g')"
     ],
     "language": "python",
     "metadata": {},
     "outputs": [
      {
       "metadata": {},
       "output_type": "display_data",
       "png": "[encoded data removed]",
       "text": [
        "<matplotlib.figure.Figure at 0x10b1c8f50>"
       ]
      }
     ],
     "prompt_number": 23
    },
    {
     "cell_type": "code",
     "collapsed": false,
     "input": [],
     "language": "python",
     "metadata": {},
     "outputs": []
    }
   ],
   "metadata": {}
  }
 ]
}